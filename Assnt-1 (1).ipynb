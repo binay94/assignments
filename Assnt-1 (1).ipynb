{
 "cells": [
  {
   "cell_type": "code",
   "execution_count": null,
   "id": "da4a225a-142c-4b9d-bd6e-7d8807eff6e1",
   "metadata": {},
   "outputs": [],
   "source": [
    "1. In the below elements which of them are values or an expression? eg:- values can be integer or string and expressions will be mathematical operators.\n",
    "\n",
    "* ----------------->mathematical operator(multiplication)\n",
    "'hello' ----------->value(string)\n",
    "-87.8 ------------->value(float)\n",
    "-  ---------------->mathematical operator(substraction)\n",
    "/ ----------------->mathematical operator(division)\n",
    "+ ----------------->mathematical operator(addition)\n",
    "6 ----------------->value(integer)\n"
   ]
  },
  {
   "cell_type": "markdown",
   "id": "ea9506ee-0076-46e1-b6bb-5004d9df98a0",
   "metadata": {},
   "source": [
    "2. What is the difference between string and variable?\n",
    "  \n",
    "  string----->string is a predefined class and sequence data type in python to store string or text data.\n",
    "  \n",
    "  variable--->variable is used to store or hold the data in program"
   ]
  },
  {
   "cell_type": "markdown",
   "id": "1a5a68ee-08aa-4bbb-b204-f39f0de1d486",
   "metadata": {},
   "source": [
    "3. Describe three different data types.\n",
    "   \n",
    "   Three fundamental Data types in python are int, float and complex.\n",
    "\n",
    "   int data type:  int data type is used for representing whole numbers (integral values)\n",
    "   \n",
    "   float data type:  float data type is used for representing floating point values (decimal values)\n",
    "   \n",
    "   complex data type: Complex number is represented by complex class. \n",
    "                      It is specified as (real part) + (imaginary part)j."
   ]
  },
  {
   "cell_type": "markdown",
   "id": "c9e6b409-2a93-4973-b1cb-2de342a9ed1d",
   "metadata": {},
   "source": [
    "4. What is an expression made up of? What do all expressions do?\n",
    "   \n",
    "   expression is a combination of operators and operands which is evaluated to a single value."
   ]
  },
  {
   "cell_type": "markdown",
   "id": "f8221b77-d4fb-4634-af55-ac33921b2be3",
   "metadata": {},
   "source": [
    "5. This assignment statements, like spam = 10. What is the difference between an expression and a statement?\n",
    "   \n",
    "   expression consists of operators and operands and finally the result stored in a variable but in    \n",
    "   assignment statement some value assigned to a variable."
   ]
  },
  {
   "cell_type": "markdown",
   "id": "c406a7ad-dcd2-4078-ab22-5cd7c911977c",
   "metadata": {},
   "source": [
    "6. After running the following code, what does the variable bacon contain?\n",
    "\n",
    "bacon = 22\n",
    "\n",
    "bacon + 1\n",
    "\n",
    "bacon contains value as 22"
   ]
  },
  {
   "cell_type": "markdown",
   "id": "de0c78bd-c4b7-49d8-bca9-09de80565bf7",
   "metadata": {},
   "source": [
    "7. What should the values of the following two terms be?\n",
    "\n",
    "'spam' + 'spamspam' --------->'spamspamspam'\n",
    "\n",
    "'spam' * 3  ----------------->'spamspamspam'\n"
   ]
  },
  {
   "cell_type": "markdown",
   "id": "3ea9444d-ee48-4df6-8208-07f9a946b2ab",
   "metadata": {},
   "source": [
    "8. Why is eggs a valid variable name while 100 is invalid?\n",
    "  \n",
    "  \n",
    "  variable name must contains alphabets,digits and underscore symbol but it must starts with alphabet or \n",
    "   underscore . as eggs stisfies this condition it is a valid variable name and 100 is not."
   ]
  },
  {
   "cell_type": "markdown",
   "id": "f966a4e0-4fb9-4128-87a5-b3d89724a533",
   "metadata": {},
   "source": [
    "9. What three functions can be used to get the integer, floating-point number, or string version of a value?\n",
    "   \n",
    "   for integer version of a value ------------------------>int()\n",
    "   \n",
    "   for floating-point number version of a value ---------->float()\n",
    "   \n",
    "   for string version of a value ------------------------->str()"
   ]
  },
  {
   "cell_type": "markdown",
   "id": "1c74ccf2-c5d8-4081-964e-1b7b13763438",
   "metadata": {},
   "source": [
    "10. Why does this expression cause an error? How can you fix it?\n",
    "    \n",
    "    'I have eaten ' + 99 + ' burritos.'\n",
    "    \n",
    "    Ans :concatenation can be done between string and string only.here 99 is of integer type. we can make 99 as  \n",
    "    string eithor by placing it with in single or double quote(' ',\" \") or by using str().\n",
    "    \n",
    "    we can fix it as follows,\n",
    "    \n",
    "    1)'I have eaten ' + '99' + ' burritos.'\n",
    "    \n",
    "    2)'I have eaten ' + str(99) + ' burritos.'\n"
   ]
  },
  {
   "cell_type": "code",
   "execution_count": null,
   "id": "1db62439-35b4-45db-ab67-fb6cadd72982",
   "metadata": {},
   "outputs": [],
   "source": []
  }
 ],
 "metadata": {
  "kernelspec": {
   "display_name": "Python 3 (ipykernel)",
   "language": "python",
   "name": "python3"
  },
  "language_info": {
   "codemirror_mode": {
    "name": "ipython",
    "version": 3
   },
   "file_extension": ".py",
   "mimetype": "text/x-python",
   "name": "python",
   "nbconvert_exporter": "python",
   "pygments_lexer": "ipython3",
   "version": "3.10.6"
  }
 },
 "nbformat": 4,
 "nbformat_minor": 5
}
