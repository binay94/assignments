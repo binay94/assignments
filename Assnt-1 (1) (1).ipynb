{
 "cells": [
  {
   "cell_type": "raw",
   "id": "3c5ea9d4-eefe-4738-b67a-bcf14d8c4592",
   "metadata": {},
   "source": [
    "1. In the below elements which of them are values or an expression? eg:- values can be integer or string and expressions will be mathematical operators.\n",
    "* ----------------->mathematical operator(multiplication)\n",
    "'hello' ----------->value(string)\n",
    "-87.8 ------------->value(float)\n",
    "-  ---------------->mathematical operator(substraction)\n",
    "/ ----------------->mathematical operator(division)\n",
    "+ ----------------->mathematical operator(addition)\n",
    "6 ----------------->value(integer)\n"
   ]
  },
  {
   "cell_type": "raw",
   "id": "f382dc36-537f-48af-b900-48e70030ca6a",
   "metadata": {},
   "source": [
    "2. What is the difference between string and variable?\n",
    "   string----->string is a predefined class and sequence data type in python to store string or text data.\n",
    "   variable--->variable is used to store or hold the data in program"
   ]
  },
  {
   "cell_type": "raw",
   "id": "24dc749c-5c96-4331-9f63-210a9f2aef98",
   "metadata": {},
   "source": [
    "3. Describe three different data types.\n"
   ]
  },
  {
   "cell_type": "raw",
   "id": "15e85d6c-36af-406e-8d06-0b720c3ffb32",
   "metadata": {},
   "source": [
    "4. What is an expression made up of? What do all expressions do?\n",
    "   expression is a combination of operators and operands which is evaluated to a single value."
   ]
  },
  {
   "cell_type": "raw",
   "id": "127e9dfd-2621-4bc7-a6ef-9482ce173a4c",
   "metadata": {},
   "source": [
    "5. This assignment statements, like spam = 10. What is the difference between an expression and a statement?\n",
    "   expression consists of operators and operands and finally the result stored in a variable but in assignment statement some    value assigned to a variable."
   ]
  },
  {
   "cell_type": "raw",
   "id": "312fe5fb-3795-4b19-898a-98669c2e8e36",
   "metadata": {},
   "source": [
    "6. After running the following code, what does the variable bacon contain?\n",
    "bacon = 22\n",
    "bacon + 1\n",
    "    bacon contains value as 22"
   ]
  },
  {
   "cell_type": "raw",
   "id": "9c38e5d7-0f33-436d-88eb-b51d69f8c39a",
   "metadata": {},
   "source": [
    "7. What should the values of the following two terms be?\n",
    "'spam' + 'spamspam' --------->'spamspamspam'\n",
    "'spam' * 3  ----------------->'spamspamspam'\n"
   ]
  },
  {
   "cell_type": "raw",
   "id": "061278ea-0669-4fab-89c9-2572330894cc",
   "metadata": {},
   "source": [
    "8. Why is eggs a valid variable name while 100 is invalid?\n",
    "   variable name must contains alphabets,digits and underscore symbol but it must starts with alphabet or underscore . as eggs    stisfies this condition it is a valid variable name and 100 is not."
   ]
  },
  {
   "cell_type": "raw",
   "id": "f1ec6e4d-7e5b-424c-bece-d2f1f8a4055c",
   "metadata": {},
   "source": [
    "9. What three functions can be used to get the integer, floating-point number, or string version of a value?\n",
    "   for integer version of a value ------------------------>int()\n",
    "   for floating-point number version of a value ---------->float()\n",
    "   for string version of a value ------------------------->str()"
   ]
  },
  {
   "cell_type": "raw",
   "id": "2c668bd8-a296-42e5-aa6f-74291f85dbfc",
   "metadata": {},
   "source": [
    "10. Why does this expression cause an error? How can you fix it?\n",
    "    'I have eaten ' + 99 + ' burritos.'\n",
    "    concatenation can be done between string and string only.here 99 is of integer type. we can make 99 as string eithor by       placing it with in single or double quote(' ',\" \") or by using str().\n",
    "    we can fix it as follows,\n",
    "    1)'I have eaten ' + '99'+ ' burritos.'\n",
    "    2)'I have eaten ' + str(99) + ' burritos.'\n"
   ]
  },
  {
   "cell_type": "code",
   "execution_count": null,
   "id": "1db62439-35b4-45db-ab67-fb6cadd72982",
   "metadata": {},
   "outputs": [],
   "source": []
  }
 ],
 "metadata": {
  "kernelspec": {
   "display_name": "Python 3 (ipykernel)",
   "language": "python",
   "name": "python3"
  },
  "language_info": {
   "codemirror_mode": {
    "name": "ipython",
    "version": 3
   },
   "file_extension": ".py",
   "mimetype": "text/x-python",
   "name": "python",
   "nbconvert_exporter": "python",
   "pygments_lexer": "ipython3",
   "version": "3.9.12"
  }
 },
 "nbformat": 4,
 "nbformat_minor": 5
}
