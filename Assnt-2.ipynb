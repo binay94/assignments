{
 "cells": [
  {
   "cell_type": "raw",
   "id": "ce6826b6-d223-4f68-842f-ba5204435ea7",
   "metadata": {},
   "source": [
    "1.What are the two values of the Boolean data type? How do you write them?\n",
    " two values of boolean data type are true and false.we write those values as True and False"
   ]
  },
  {
   "cell_type": "raw",
   "id": "55d7e482-984e-42d3-8a69-ed87bce5958d",
   "metadata": {},
   "source": [
    "2. What are the three different types of Boolean operators?\n",
    "   Three different types of Boolean operators are \"and\",\"or\",\"not\""
   ]
  },
  {
   "cell_type": "raw",
   "id": "ad573630-a827-4ea9-871a-648c312a2d05",
   "metadata": {},
   "source": [
    "3. Make a list of each Boolean operator's truth tables (i.e. every possible combination of Boolean values for the      \n",
    "   operator and what it evaluate ).\n",
    "   truth table for \"and\" operator------------> exp1     exp2    exp1 and exp2\n",
    "                                               False    True         False\n",
    "                                               False    False        False\n",
    "                                               True     True         True\n",
    "                                               True     False        False\n",
    "   truth table for \"or\" operator-------------> exp1     exp2    exp1 and exp2   \n",
    "                                               False    True         True\n",
    "                                               False    False        False\n",
    "                                               True     True         True\n",
    "                                               True     False        True\n",
    "   truth table for \"not\" operator------------> exp1     not exp1   \n",
    "                                               False    True    \n",
    "                                               True     False "
   ]
  },
  {
   "cell_type": "raw",
   "id": "a6e61c9d-1460-465e-af99-34e25f0d65c3",
   "metadata": {},
   "source": [
    "4. What are the values of the following expressions?\n",
    "   (5 > 4) and (3 == 5)  ----------------------->False\n",
    "   not (5 > 4)  -------------------------------->False\n",
    "   (5 > 4) or (3 == 5)  ------------------------>True\n",
    "   not ((5 > 4) or (3 == 5)) ------------------->False\n",
    "   (True and True) and (True == False) --------->False\n",
    "   (not False) or (not True) ------------------->True\n",
    "   \n"
   ]
  },
  {
   "cell_type": "raw",
   "id": "b017d0a3-0138-4261-9392-e06b65117cbb",
   "metadata": {},
   "source": [
    "5. What are the six comparison operators?\n",
    "   Six comparison operators are equality(==), not equal to(!=), greater than(>), greater than or equal to(>=),\n",
    "   less than(<) and less than or equal to(<=)."
   ]
  },
  {
   "cell_type": "raw",
   "id": "76360525-eb1f-4372-8b91-275c1b10c05d",
   "metadata": {},
   "source": [
    "6. How do you tell the difference between the equal to and assignment operators?Describe a condition and when you would  \n",
    "   use one.\n",
    "             equal to operator                           assignment operator\n",
    "   symbol --->     ==                                --->       =\n",
    "   purpose -->it asks a question that is the         --->it transfers the right hand side \n",
    "              right hand side value is equals            value to left hand side variable\n",
    "              to left hand side value or variable\n",
    "   output --->it provides a boolean result eithor    --->it assigns the right hand side value to      \n",
    "              True or False                              left hand side variable"
   ]
  },
  {
   "cell_type": "raw",
   "id": "dcfbf198-03db-472c-8269-aeb492b9dfa1",
   "metadata": {},
   "source": [
    "7. Identify the three blocks in this code:\n",
    "    spam = 0\n",
    "    if spam == 10:\n",
    "    print('eggs')\n",
    "    if spam > 5:\n",
    "    print('bacon')\n",
    "    else:\n",
    "    print('ham')\n",
    "    print('spam')\n",
    "    print('spam')\n",
    "\n",
    "spam = 0\n",
    "if spam == 10:\n",
    "    print('eggs')\n",
    "if spam > 5:\n",
    "    print('bacon')\n",
    "else:\n",
    "    print('ham')\n",
    "    print('spam')\n",
    "    print('spam')\n"
   ]
  },
  {
   "cell_type": "code",
   "execution_count": 8,
   "id": "eb12b2ae-efcc-42d3-8ea7-2e8816803fe6",
   "metadata": {},
   "outputs": [
    {
     "name": "stdin",
     "output_type": "stream",
     "text": [
      "enter value : 5\n"
     ]
    },
    {
     "name": "stdout",
     "output_type": "stream",
     "text": [
      "Greetings!\n"
     ]
    }
   ],
   "source": [
    "#8. Write code that prints Hello if 1 is stored in spam, prints Howdy if 2 is stored in spam, and prints Greetings! if   \n",
    " #  anything else is stored in spam.\n",
    "spam=int(input(\"enter value :\"))\n",
    "if spam==1:\n",
    "    print(\"Hello\")\n",
    "elif spam==2:\n",
    "    print(\"Howdy\")\n",
    "else:\n",
    "    print(\"Greetings!\")"
   ]
  },
  {
   "cell_type": "raw",
   "id": "46ea3a2b-5c37-41c3-b798-ebae40b1bc3c",
   "metadata": {},
   "source": [
    "9.If your programme is stuck in an endless loop, what keys you’ll press?\n",
    "  By pressing \"ctrl+c\" we can terminate the loop.we should use \"break\" keyword in programming"
   ]
  },
  {
   "cell_type": "raw",
   "id": "93a54669-76e4-4f2e-ac05-815289a57ee4",
   "metadata": {},
   "source": [
    "10. How can you tell the difference between break and continue?\n",
    "    \"break\" keyword terminates the loop when certain condition is satisfied and comes out of that loop whwre as  \n",
    "    \"comtinue\" skips that particukar iteration and executes next iteration of that loop"
   ]
  },
  {
   "cell_type": "raw",
   "id": "fd8e04b1-470b-40cb-a7e8-b79c00dbac7b",
   "metadata": {},
   "source": [
    "11. In a for loop, what is the difference between range(10), range(0, 10), and range(0, 10, 1)?\n",
    "    There is no difference in output of range(10), range(0, 10), and range(0, 10, 1)\n",
    "    range(10)----->it will give value ranges from 0(by default) to 9\n",
    "    range(0,10)----->it will give value ranges from 0(starting given) to 9\n",
    "    range(0,10,1)----->it will give value ranges from 0(starting given) to 9 with step 1\n",
    "    "
   ]
  },
  {
   "cell_type": "code",
   "execution_count": 17,
   "id": "511b514d-cce8-484d-bfa0-8bcc295a03c9",
   "metadata": {},
   "outputs": [
    {
     "name": "stdout",
     "output_type": "stream",
     "text": [
      "numbers from 1 to 10 using for loop :\n",
      "1\n",
      "2\n",
      "3\n",
      "4\n",
      "5\n",
      "6\n",
      "7\n",
      "8\n",
      "9\n",
      "10\n",
      "numbers from 1 to 10 using while loop :\n",
      "1\n",
      "2\n",
      "3\n",
      "4\n",
      "5\n",
      "6\n",
      "7\n",
      "8\n",
      "9\n",
      "10\n"
     ]
    }
   ],
   "source": [
    "#12. Write a short program that prints the numbers 1 to 10 using a for loop. Then write an equivalent program that prints the numbers 1 to 10 using a while loop.\n",
    "print(\"numbers from 1 to 10 using for loop :\")\n",
    "for i in range(1,11):\n",
    "    print(i)\n",
    "print(\"numbers from 1 to 10 using while loop :\")\n",
    "j=1\n",
    "while(j<=10):\n",
    "    print(j)\n",
    "    j=j+1"
   ]
  },
  {
   "cell_type": "raw",
   "id": "24291d6e-d20d-4870-b457-104878c43fa4",
   "metadata": {},
   "source": [
    "13. If you had a function named bacon() inside a module named spam, how would you call it after importing spam?\n",
    "    from spam import bacon"
   ]
  },
  {
   "cell_type": "code",
   "execution_count": null,
   "id": "3fc4dade-1d18-43c1-aadd-69f10d4bd45e",
   "metadata": {},
   "outputs": [],
   "source": []
  }
 ],
 "metadata": {
  "kernelspec": {
   "display_name": "Python 3 (ipykernel)",
   "language": "python",
   "name": "python3"
  },
  "language_info": {
   "codemirror_mode": {
    "name": "ipython",
    "version": 3
   },
   "file_extension": ".py",
   "mimetype": "text/x-python",
   "name": "python",
   "nbconvert_exporter": "python",
   "pygments_lexer": "ipython3",
   "version": "3.10.6"
  }
 },
 "nbformat": 4,
 "nbformat_minor": 5
}
