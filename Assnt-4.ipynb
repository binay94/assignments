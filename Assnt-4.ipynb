{
 "cells": [
  {
   "cell_type": "raw",
   "id": "0f83b1a1-d20c-4044-a8c0-3c21e9c4b33e",
   "metadata": {},
   "source": [
    "1. What exactly is []?\n",
    "   It represents an empty list "
   ]
  },
  {
   "cell_type": "raw",
   "id": "b86d1fd5-2f2a-4e2f-a4e5-3bab189c6846",
   "metadata": {},
   "source": [
    "2. In a list of values stored in a variable called spam, how would you assign the value 'hello' as the third value? (Assume      [2, 4, 6, 8, 10] are in spam.)\n",
    "   spam[2] = 'hello' or spam[-4]=\"hello\""
   ]
  },
  {
   "cell_type": "raw",
   "id": "1fc3d4c4-1ef5-42d4-8a8c-046358baae15",
   "metadata": {},
   "source": [
    "Let's pretend the spam includes the list ['a', 'b', 'c', 'd'] for the next three queries.\n",
    "3. What is the value of spam[int(int('3' * 2) / 11)]?\n",
    "   spam[int(int(33) / 11)] = spam[int(3.0)] = spam[3] = 'd'"
   ]
  },
  {
   "cell_type": "code",
   "execution_count": 2,
   "id": "b518e7ca-6ee4-41f4-924a-4fb255026455",
   "metadata": {},
   "outputs": [
    {
     "data": {
      "text/plain": [
       "'d'"
      ]
     },
     "execution_count": 2,
     "metadata": {},
     "output_type": "execute_result"
    }
   ],
   "source": [
    "spam=['a','b','c','d']\n",
    "spam[int(int('3' * 2) / 11)]\n",
    "   "
   ]
  },
  {
   "cell_type": "raw",
   "id": "157e52cf-3015-4257-ab3b-9a33d2a111e3",
   "metadata": {},
   "source": [
    "4. What is the value of spam[-1]?\n",
    "   The value of spam[-1] is 'd'"
   ]
  },
  {
   "cell_type": "code",
   "execution_count": 3,
   "id": "d1c1d455-e764-42bd-a1d8-c6ce76e809e1",
   "metadata": {},
   "outputs": [
    {
     "data": {
      "text/plain": [
       "'d'"
      ]
     },
     "execution_count": 3,
     "metadata": {},
     "output_type": "execute_result"
    }
   ],
   "source": [
    "spam[-1]"
   ]
  },
  {
   "cell_type": "raw",
   "id": "d5efb054-f120-4f3c-93f0-07f6fcc27863",
   "metadata": {},
   "source": [
    "5. What is the value of spam[:2]?\n",
    "   The value of spam[:2] is ['a','b']"
   ]
  },
  {
   "cell_type": "code",
   "execution_count": 4,
   "id": "33fb9279-a149-45b4-aed6-6122ce48af1e",
   "metadata": {},
   "outputs": [
    {
     "data": {
      "text/plain": [
       "['a', 'b']"
      ]
     },
     "execution_count": 4,
     "metadata": {},
     "output_type": "execute_result"
    }
   ],
   "source": [
    "spam[:2]"
   ]
  },
  {
   "cell_type": "raw",
   "id": "36cd9425-75bc-4bfd-8de4-fda733a0be3b",
   "metadata": {},
   "source": [
    "Let's pretend bacon has the list [3.14, 'cat', 11, 'cat,' True] for the next three questions.\n",
    "6. What is the value of bacon.index('cat')?\n",
    "   The value of bacon.index('cat') is 1"
   ]
  },
  {
   "cell_type": "code",
   "execution_count": 16,
   "id": "6ca52cd9-1105-4669-822d-8b081f77a8ed",
   "metadata": {},
   "outputs": [
    {
     "data": {
      "text/plain": [
       "1"
      ]
     },
     "execution_count": 16,
     "metadata": {},
     "output_type": "execute_result"
    }
   ],
   "source": [
    "bacon=[3.14, 'cat', 11, 'cat', True]\n",
    "bacon.index('cat')"
   ]
  },
  {
   "cell_type": "raw",
   "id": "c2350c02-5236-4a73-8a7e-9f143be37ac6",
   "metadata": {},
   "source": [
    "7. How does bacon.append(99) change the look of the list value in bacon?\n",
    "   bacon.append(99) change the look of the list value in bacon : [3.14, 'cat', 11, 'cat', True, 99]"
   ]
  },
  {
   "cell_type": "code",
   "execution_count": 17,
   "id": "d63e755a-d7ea-47a9-99dc-f2c706c5abbd",
   "metadata": {},
   "outputs": [
    {
     "data": {
      "text/plain": [
       "[3.14, 'cat', 11, 'cat', True, 99]"
      ]
     },
     "execution_count": 17,
     "metadata": {},
     "output_type": "execute_result"
    }
   ],
   "source": [
    "bacon.append(99)\n",
    "bacon"
   ]
  },
  {
   "cell_type": "raw",
   "id": "5ba2e497-6514-478f-8cd6-8d07473dfabe",
   "metadata": {},
   "source": [
    "8. How does bacon.remove('cat') change the look of the list in bacon?\n",
    "   bacon.remove('cat') change the look of the list in bacon : [3.14, 11, 'cat', True, 99]"
   ]
  },
  {
   "cell_type": "code",
   "execution_count": 18,
   "id": "557ac8e5-3a04-46b9-8d2e-c7a15e2142b4",
   "metadata": {},
   "outputs": [
    {
     "data": {
      "text/plain": [
       "[3.14, 11, 'cat', True, 99]"
      ]
     },
     "execution_count": 18,
     "metadata": {},
     "output_type": "execute_result"
    }
   ],
   "source": [
    "bacon.remove('cat')\n",
    "bacon"
   ]
  },
  {
   "cell_type": "raw",
   "id": "7b9dde03-56e9-4c8a-a945-43f36fd84fff",
   "metadata": {},
   "source": [
    "9. What are the list concatenation and list replication operators?\n",
    "   The operator for list concatenation is +, while the operator for replication is *"
   ]
  },
  {
   "cell_type": "raw",
   "id": "ffd7a59e-ac9a-4be0-bd9e-a1724b5dfde1",
   "metadata": {},
   "source": [
    "10. What is difference between the list methods append() and insert()?\n",
    "    append() adds a value to the end of list.syntax for append() : listobject.append(value)\n",
    "    insert() adds a value to the provided position of list.syntax for append() : listobject.insert(index,value)"
   ]
  },
  {
   "cell_type": "raw",
   "id": "87a95d21-5e97-43de-968c-95cda13d5125",
   "metadata": {},
   "source": [
    "11. What are the two methods for removing items from a list?\n",
    "    Methods for removing items from a list are : using remove() and pop()"
   ]
  },
  {
   "cell_type": "raw",
   "id": "4222127f-3d61-45e7-af7a-cc9d3284331c",
   "metadata": {},
   "source": [
    "12. Describe how list values and string values are identical.\n",
    "    Both lists and strings can be passed to len(),indexing and slicing can be done, be used in for loops, be concatenated or       replicated, and be used with the in and not in operators."
   ]
  },
  {
   "cell_type": "raw",
   "id": "770cc48e-846e-487e-9f19-e11f5a8f6c35",
   "metadata": {},
   "source": [
    "13. What's the difference between tuples and lists?\n",
    "    lists are Mutable(values can be values added, removed, or changed) and denoted in square brackets[]\n",
    "    tuples are Immutable(values can't be added, removed, or changed) and denoted in angle brackets()"
   ]
  },
  {
   "cell_type": "raw",
   "id": "49a293b9-f657-4032-bb9a-e04a48dec7f3",
   "metadata": {},
   "source": [
    "14. How do you type a tuple value that only contains the integer 42?\n",
    "    A tuple value that only contains the integer 42 : (42)"
   ]
  },
  {
   "cell_type": "raw",
   "id": "bdfd4cea-64a0-4016-972a-58bb5991e2e1",
   "metadata": {},
   "source": [
    "15. How do you get a list value's tuple form? How do you get a tuple value's list form?\n",
    "    To get a list value's tuple form : using tuple()\n",
    "    To get a tuple value's list form : using list()"
   ]
  },
  {
   "cell_type": "raw",
   "id": "d13ed364-932d-4c9d-8e72-422dbd815e40",
   "metadata": {},
   "source": [
    "16. Variables that \"contain\" list values are not necessarily lists themselves. Instead, what do they contain?\n",
    "    They contain references to list values"
   ]
  },
  {
   "cell_type": "raw",
   "id": "c81296c5-cc41-466d-bb50-d4461fe91e2c",
   "metadata": {},
   "source": [
    "17. How do you distinguish between copy.copy() and copy.deepcopy()?\n",
    "    copy.copy() - it copies content of one object to another implimenting shallow copy which is modification independent\n",
    "    copy.deepcopy() - it copies content of one object to another implimenting deep copy which is modification dependent"
   ]
  },
  {
   "cell_type": "code",
   "execution_count": null,
   "id": "56e571ef-d0f0-4ba7-872c-fc40c8cee129",
   "metadata": {},
   "outputs": [],
   "source": []
  }
 ],
 "metadata": {
  "kernelspec": {
   "display_name": "Python 3 (ipykernel)",
   "language": "python",
   "name": "python3"
  },
  "language_info": {
   "codemirror_mode": {
    "name": "ipython",
    "version": 3
   },
   "file_extension": ".py",
   "mimetype": "text/x-python",
   "name": "python",
   "nbconvert_exporter": "python",
   "pygments_lexer": "ipython3",
   "version": "3.10.6"
  }
 },
 "nbformat": 4,
 "nbformat_minor": 5
}
