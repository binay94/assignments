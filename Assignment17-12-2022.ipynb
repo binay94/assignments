{
 "cells": [
  {
   "cell_type": "raw",
   "id": "8ceb55c7",
   "metadata": {},
   "source": [
    "1. Write a class called BankAccount that has the following:\n",
    "        • A field called name that stores the name of the account holder.\n",
    "        • A field called amount that stores the amount of money in the account.\n",
    "        • A field called interest_rate that stores the account’s interest rate (as a percentage).\n",
    "        • A constructor that just sets the values of the three fields above.\n",
    "        • A method called apply_interest() that takes no arguments and applies the interest to the\n",
    "        account. It should just modify the amount field and not return anything. For instance, if the\n",
    "        account has $1000 in it and the interest rate is 3%, then the amount variable should be changed\n",
    "        to $1030 ($1000 + 3% interest).\n",
    "        Then test the class, by creating a new BankAccount object for a user named Juan De Hattatime who\n",
    "        has $1000 at 3% interest. Then do the following:\n",
    "        • Use the apply_interest() method to apply the interest to the account.\n",
    "        • Print out how much money is now in the account after applying the interest.\n",
    "        • Change the account’s interest rate to 2%.\n",
    "        • Use the apply_interest() method to apply the interest to the account again.\n",
    "        • Print out how much money is now in the account after applying the interest again."
   ]
  },
  {
   "cell_type": "code",
   "execution_count": 1,
   "id": "59aa6ed7",
   "metadata": {},
   "outputs": [],
   "source": [
    "class bankacc:\n",
    "    def __init__(self,name,bal,rate):\n",
    "        self.name=name\n",
    "        self.bal=bal\n",
    "        self.intr_rate=rate\n",
    "    def apply_interest(self):\n",
    "        amt=self.bal*(1+(self.intr_rate/100))\n",
    "        print(\"The available amt after applying interest:{}$\".format(amt))"
   ]
  },
  {
   "cell_type": "code",
   "execution_count": 2,
   "id": "e207ec55",
   "metadata": {},
   "outputs": [
    {
     "name": "stdout",
     "output_type": "stream",
     "text": [
      "The available amt after applying interest:1030.0$\n"
     ]
    }
   ],
   "source": [
    "b=bankacc(\"Juan De Hattatime\",1000,3)\n",
    "b.apply_interest()"
   ]
  },
  {
   "cell_type": "code",
   "execution_count": 3,
   "id": "00b03c85",
   "metadata": {},
   "outputs": [
    {
     "name": "stdout",
     "output_type": "stream",
     "text": [
      "The available amt after applying interest:1020.0$\n"
     ]
    }
   ],
   "source": [
    "b=bankacc(\"Juan De Hattatime\",1000,2)\n",
    "b.apply_interest()"
   ]
  },
  {
   "cell_type": "raw",
   "id": "a20622b9",
   "metadata": {},
   "source": [
    " 2. Write a class called Item that represents an item for sale. It should have the following:\n",
    "      • Fields representing the name and price of the item\n",
    "      • A constructor that sets those fields,\n",
    "      • A __str__() method that returns a string containing the item name and price, with the price\n",
    "      formatted to exactly 2 decimal places\n",
    "      Test the class by creating a new item object and printing it out"
   ]
  },
  {
   "cell_type": "code",
   "execution_count": 2,
   "id": "5b505fc6",
   "metadata": {},
   "outputs": [],
   "source": [
    "class item:\n",
    "    def __init__(self,name,price):\n",
    "        self.name=name\n",
    "        self.price=price\n",
    "    def __str__(self):\n",
    "        print(\"Item Name:\", self.name)\n",
    "        print(\"Item Price:%0.2f\"%self.price)"
   ]
  },
  {
   "cell_type": "code",
   "execution_count": 3,
   "id": "ac4c34f3",
   "metadata": {},
   "outputs": [
    {
     "name": "stdout",
     "output_type": "stream",
     "text": [
      "Item Name: book\n",
      "Item Price:755.68\n"
     ]
    }
   ],
   "source": [
    "a=item(\"book\",755.6789)\n",
    "a.__str__()"
   ]
  },
  {
   "cell_type": "raw",
   "id": "1940c467",
   "metadata": {},
   "source": [
    "3. Write a class called ShoppingCart that might be used in an online store. It should have the following:\n",
    "      • A list of Item objects that represents the items in the shopping cart\n",
    "      • A constructor that creates an empty list of items (the constructor should take no arguments except self)\n",
    "      • A method called add() that takes a name and a price and adds an Item object with that name\n",
    "      and price to the shopping cart\n",
    "      • A method called total() that takes no arguments and returns the total cost of the items in the\n",
    "      cart\n",
    "      34\n",
    "      • A method called remove_items() that takes an item name (a string) and removes any Item\n",
    "      objects with that name from the shopping cart. It shouldn’t return anything.\n",
    "      • A __str__() method that returns a string containing info on all the items in the shopping cart\n",
    "      Then test out the shopping cart as follows: (1) create a shopping cart; (2) add several items to it; (3)\n",
    "      print the cart’s total cost (using the total() method); (4) remove one of the items types; (5) print out\n",
    "      the cart"
   ]
  },
  {
   "cell_type": "code",
   "execution_count": 4,
   "id": "2db7e7be",
   "metadata": {},
   "outputs": [],
   "source": [
    "class shoppingcart:\n",
    "    \n",
    "    def __init__(self):\n",
    "        self.ilst=[]\n",
    "        self.plst=[]\n",
    "    def add(self,name,price):\n",
    "        self.name=name\n",
    "        self.price=price\n",
    "        self.ilst.append(name)\n",
    "        self.plst.append(price)\n",
    "        print(\"list of items:\",self.ilst)\n",
    "    def total(self):    \n",
    "        total=0\n",
    "        for i in self.plst:\n",
    "            price=i\n",
    "            total=total+price\n",
    "        return total\n",
    "    def remove_item(self,name):\n",
    "        ilst.remove(name)\n",
    "    def __str__(self):\n",
    "        print(\"Your cart Details :\")\n",
    "        print(\"list of items:\",self.ilst)\n",
    "        print(\"list of price:\",self.plst)\n",
    "        print(\"total price of {} items : {}rupees\".format(len(self.ilst),self.total()))\n",
    "            \n",
    "            "
   ]
  },
  {
   "cell_type": "code",
   "execution_count": 5,
   "id": "41b676f3",
   "metadata": {},
   "outputs": [
    {
     "name": "stdout",
     "output_type": "stream",
     "text": [
      "list of items: ['pen']\n",
      "list of items: ['pen', 'pencil']\n"
     ]
    }
   ],
   "source": [
    "s=shoppingcart()\n",
    "s.add(\"pen\",15)\n",
    "s.add(\"pencil\",10)"
   ]
  },
  {
   "cell_type": "code",
   "execution_count": 6,
   "id": "375e5121",
   "metadata": {},
   "outputs": [
    {
     "data": {
      "text/plain": [
       "25"
      ]
     },
     "execution_count": 6,
     "metadata": {},
     "output_type": "execute_result"
    }
   ],
   "source": [
    "s.total()"
   ]
  },
  {
   "cell_type": "code",
   "execution_count": 7,
   "id": "a16977f7",
   "metadata": {},
   "outputs": [
    {
     "name": "stdout",
     "output_type": "stream",
     "text": [
      "Your cart Details :\n",
      "list of items: ['pen', 'pencil']\n",
      "list of price: [15, 10]\n",
      "total price of 2 items : 25rupees\n"
     ]
    }
   ],
   "source": [
    "s.__str__()"
   ]
  },
  {
   "cell_type": "raw",
   "id": "cecb560e",
   "metadata": {},
   "source": [
    "4. Write a class called RestaurantCheck. It should have the following:\n",
    "      • Fields called check_number, sales_tax_percent, subtotal, table_number, and server_name\n",
    "      representing an identification for the check, the bill without tax added, the sales tax percentage,\n",
    "      the table number, and the name of the server.\n",
    "      • A constructor that sets the values of all four fields\n",
    "      • A method called calculate_total that takes no arguments (besides self) and returns the total\n",
    "      bill including sales tax.\n",
    "      • A method called print_check that writes to a file called check###.txt, where ### is the check\n",
    "      number and writes information about the check to that file, formatted like below:\n",
    "      Check Number: 443\n",
    "      Sales tax: 6.0%\n",
    "      Subtotal: $23.14\n",
    "      Total: $24.53\n",
    "      Table Number: 17\n",
    "      Server: Sonic the Hedgehog\n",
    "      Test the class by creating a RestaurantCheck object and calling the print_check() method"
   ]
  },
  {
   "cell_type": "code",
   "execution_count": 75,
   "id": "29b68964",
   "metadata": {},
   "outputs": [],
   "source": [
    "class RestaurantCheck:\n",
    "    def __init__(self,check_number,sales_tax_percent,subtotal,table_number,server_name):\n",
    "        self.check_number=check_number\n",
    "        self.sales_tax_percent=sales_tax_percent\n",
    "        self.subtotal=subtotal\n",
    "        self.table_number=table_number\n",
    "        self.server_name=server_name\n",
    "    def Calculate_total(self):\n",
    "        t=self.subtotal*(1+(self.sales_tax_percent/100))\n",
    "        return t\n",
    "    def print_check(self):\n",
    "        with open (\"check443.txt\", \"w\") as fp:\n",
    "            fp.write(\"Check Number:{}\\n\".format(self.check_number))\n",
    "            fp.write(\"Sales Tax:{}\\n\".format(self.sales_tax_percent))\n",
    "            fp.write(\"Sub Total :{}\\n\".format(self.subtotal))\n",
    "            fp.write(\"Total:%0.2f\\n\"%(self.subtotal*(1+(self.sales_tax_percent/100))))\n",
    "            fp.write(\"Table No:{}\\n\".format(self.table_number))\n",
    "            fp.write(\"Server:{}\".format(self.server_name))\n",
    "            "
   ]
  },
  {
   "cell_type": "code",
   "execution_count": 76,
   "id": "cd9fa37f",
   "metadata": {},
   "outputs": [],
   "source": [
    "r=RestaurantCheck(443,6.0,23.14,17,\"Sonic the Hedgehog\")\n",
    "r.Calculate_total()\n",
    "r.print_check()"
   ]
  },
  {
   "cell_type": "raw",
   "id": "3f23a939",
   "metadata": {},
   "source": [
    "5. Write a class called Ticket that has the following:\n",
    "      • A field cost for the price of the ticket and a string field time for the start time of the event\n",
    "      (assume times are in 24-hour format, like '18:35')\n",
    "      • A constructor that sets those variables\n",
    "      • A __str__() method that returns a string of the form Ticket(<cost>, <time>), where\n",
    "      <cost> and <time> are replaced with the values of the cost and time fields.\n",
    "      • A method called is_evening_time() that returns True or False, depending on whether the\n",
    "      time falls in the range from 18:00 to 23:59.\n",
    "      • A method called bulk_discount() that takes an integer n and returns the discount for buying n\n",
    "      tickets.There should be a 10% discount for buying 5 to 9 tickets, and a 20% discount for buying\n",
    "      10 or more. Otherwise, there is no discount. Return these percentages as integers.\n",
    "      Test the class by creating a Ticket item, printing it, calling the is_evening_time() method, and\n",
    "      calling the bulk_discount() method"
   ]
  },
  {
   "cell_type": "code",
   "execution_count": 8,
   "id": "007ba88f",
   "metadata": {},
   "outputs": [],
   "source": [
    "class ticket:\n",
    "    def __init__(self,cost,time):\n",
    "        self.cost=cost\n",
    "        self.time=time\n",
    "    def __str__(self):\n",
    "        return \"Ticket(<{}>,<{}>)\".format(self.cost,self.time)\n",
    "    def is_evening_time(self):\n",
    "        if (\"18:00\"<self.time<\"23:59\"):\n",
    "            return True\n",
    "        else:\n",
    "            return False\n",
    "      \n",
    "    \n",
    "    def bulk_discount(self,n):\n",
    "        print(\"discounted cost :\")\n",
    "        self.n=n\n",
    "        if 5<=n<10:\n",
    "            return self.cost*0.9\n",
    "        elif n>9:\n",
    "            return self.cost*0.8\n",
    "        else:\n",
    "            print(self.cost)\n",
    "                     "
   ]
  },
  {
   "cell_type": "code",
   "execution_count": 9,
   "id": "c1e7c6ac",
   "metadata": {},
   "outputs": [
    {
     "data": {
      "text/plain": [
       "'Ticket(<300>,<18:20>)'"
      ]
     },
     "execution_count": 9,
     "metadata": {},
     "output_type": "execute_result"
    }
   ],
   "source": [
    "t=ticket(300,\"18:20\")\n",
    "t.__str__()"
   ]
  },
  {
   "cell_type": "code",
   "execution_count": 10,
   "id": "3f6aaed1",
   "metadata": {},
   "outputs": [
    {
     "data": {
      "text/plain": [
       "True"
      ]
     },
     "execution_count": 10,
     "metadata": {},
     "output_type": "execute_result"
    }
   ],
   "source": [
    "t.is_evening_time()"
   ]
  },
  {
   "cell_type": "code",
   "execution_count": 11,
   "id": "a51c5bc1",
   "metadata": {},
   "outputs": [
    {
     "name": "stdout",
     "output_type": "stream",
     "text": [
      "discounted cost :\n"
     ]
    },
    {
     "data": {
      "text/plain": [
       "240.0"
      ]
     },
     "execution_count": 11,
     "metadata": {},
     "output_type": "execute_result"
    }
   ],
   "source": [
    "t.bulk_discount(10)"
   ]
  },
  {
   "cell_type": "code",
   "execution_count": 12,
   "id": "b13237ed",
   "metadata": {},
   "outputs": [
    {
     "name": "stdout",
     "output_type": "stream",
     "text": [
      "discounted cost :\n"
     ]
    },
    {
     "data": {
      "text/plain": [
       "270.0"
      ]
     },
     "execution_count": 12,
     "metadata": {},
     "output_type": "execute_result"
    }
   ],
   "source": [
    "t.bulk_discount(5)"
   ]
  },
  {
   "cell_type": "code",
   "execution_count": 13,
   "id": "7c56a96e",
   "metadata": {},
   "outputs": [
    {
     "name": "stdout",
     "output_type": "stream",
     "text": [
      "discounted cost :\n",
      "300\n"
     ]
    }
   ],
   "source": [
    "t.bulk_discount(2)"
   ]
  },
  {
   "cell_type": "code",
   "execution_count": null,
   "id": "f44dd249",
   "metadata": {},
   "outputs": [],
   "source": []
  }
 ],
 "metadata": {
  "kernelspec": {
   "display_name": "Python 3 (ipykernel)",
   "language": "python",
   "name": "python3"
  },
  "language_info": {
   "codemirror_mode": {
    "name": "ipython",
    "version": 3
   },
   "file_extension": ".py",
   "mimetype": "text/x-python",
   "name": "python",
   "nbconvert_exporter": "python",
   "pygments_lexer": "ipython3",
   "version": "3.9.12"
  }
 },
 "nbformat": 4,
 "nbformat_minor": 5
}
