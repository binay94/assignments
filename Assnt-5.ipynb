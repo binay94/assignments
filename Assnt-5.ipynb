{
 "cells": [
  {
   "cell_type": "raw",
   "id": "cfd71dd1-7d2a-4993-b152-fa88a35da99f",
   "metadata": {},
   "source": [
    "1. What does an empty dictionary's code look like?\n",
    "   An empty dictionary's code look like {}"
   ]
  },
  {
   "cell_type": "raw",
   "id": "6b792b60-8927-48ae-afd5-8b8b04549228",
   "metadata": {},
   "source": [
    "2. What is the value of a dictionary value with the key 'foo' and the value 42?\n",
    "   The value of a dictionary value with the key 'foo' and the value 42 is {'foo': 42}"
   ]
  },
  {
   "cell_type": "raw",
   "id": "8c1a8e42-16cf-4e24-b332-7162564a4e18",
   "metadata": {},
   "source": [
    "3. What is the most significant distinction between a dictionary and a list?\n",
    "   The items in a list are ordered items, while the items stored in a dictionary as key,value format are unordered"
   ]
  },
  {
   "cell_type": "raw",
   "id": "610de6e1-703a-493e-b95c-0d94d70d0f65",
   "metadata": {},
   "source": [
    "4. What happens if you try to access spam['foo'] if spam is {'bar': 100}?\n",
    "   if you try to access spam['foo'] if spam is {'bar': 100} , we will get a KeyError:'foo' error"
   ]
  },
  {
   "cell_type": "raw",
   "id": "33ebb0ee-919b-4c6b-bb08-a98e2b45417c",
   "metadata": {},
   "source": [
    "5. If a dictionary is stored in spam, what is the difference between the expressions 'cat' in spam and 'cat' in spam.keys()?\n",
    "   There is no difference. Both the expressions checks whether a value exists as a key in the dictionary"
   ]
  },
  {
   "cell_type": "raw",
   "id": "4c49e1d7-fe30-40ba-ad9c-153b1f642d99",
   "metadata": {},
   "source": [
    "6. If a dictionary is stored in spam, what is the difference between the expressions 'cat' in spam and 'cat' in spam.values()?\n",
    "   'cat' in spam checks whether there is a key named 'cat' or not but 'cat' in spam.values() checks whether there is a value      named 'cat' for any one key of spam dictionary"
   ]
  },
  {
   "cell_type": "raw",
   "id": "2fd5ad77-5a0b-4ed5-a584-025a58ccf36e",
   "metadata": {},
   "source": [
    "7. What is a shortcut for the following code?\n",
    "if 'color' not in spam:\n",
    "spam['color'] = 'black\n",
    "   \n",
    "   spam.setdefault('color','black')"
   ]
  },
  {
   "cell_type": "raw",
   "id": "5360688c-d246-4682-bc47-8dbdde6312ed",
   "metadata": {},
   "source": [
    "8. How do you \"pretty print\" dictionary values using which module and function?"
   ]
  },
  {
   "cell_type": "code",
   "execution_count": null,
   "id": "65b02db3-9004-4acd-b6e8-dfde72acaa06",
   "metadata": {},
   "outputs": [],
   "source": []
  }
 ],
 "metadata": {
  "kernelspec": {
   "display_name": "Python 3 (ipykernel)",
   "language": "python",
   "name": "python3"
  },
  "language_info": {
   "codemirror_mode": {
    "name": "ipython",
    "version": 3
   },
   "file_extension": ".py",
   "mimetype": "text/x-python",
   "name": "python",
   "nbconvert_exporter": "python",
   "pygments_lexer": "ipython3",
   "version": "3.10.6"
  }
 },
 "nbformat": 4,
 "nbformat_minor": 5
}
