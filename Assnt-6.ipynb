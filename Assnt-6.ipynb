{
 "cells": [
  {
   "cell_type": "raw",
   "id": "dba79861-cbe8-4fbd-85e4-7515cf8774de",
   "metadata": {},
   "source": [
    "1. What are escape characters, and how do you use them?\n",
    "   Escape characters represent characters in string values that would otherwise be difficult or impossible to type into code.    The escape character allows us to use double quotes when you normally would not be allowed."
   ]
  },
  {
   "cell_type": "raw",
   "id": "740ac02e-24d7-477e-918a-b48362f0203d",
   "metadata": {},
   "source": [
    "2. What do the escape characters n and t stand for?\n",
    "   The escape characters n and t stand for newline and tab respectively. \\n is a newline and  \\t is a tab space"
   ]
  },
  {
   "cell_type": "raw",
   "id": "0d377ef2-b678-418f-a856-7b7a7b7a3bec",
   "metadata": {},
   "source": [
    "3. What is the way to include backslash characters in a string?\n",
    "   The \\ escape character will represent a backslash character"
   ]
  },
  {
   "cell_type": "raw",
   "id": "2692ab16-4cb2-40cd-87ba-76ad39d497bb",
   "metadata": {},
   "source": [
    "4. The string \"Howl's Moving Castle\" is a correct value. Why isn't the single quote character in the word Howl's not escaped a    problem?\n",
    "   The single quote in Howl's is'nt create any problem because we have used double quotes to mark the beginning and end of the    string."
   ]
  },
  {
   "cell_type": "raw",
   "id": "c2a9ee2b-571b-42ae-b4b9-4fb2a1077cdc",
   "metadata": {},
   "source": [
    "5. How do you write a string of newlines if you don't want to use the n character?\n",
    "   Multiline strings(using triple single or double quote) allow us to use newlines in strings without the \\n escape character."
   ]
  },
  {
   "cell_type": "raw",
   "id": "7972e506-4da3-4328-a24a-a7c25cdc3c37",
   "metadata": {},
   "source": [
    "6. What are the values of the given expressions?\n",
    "'Hello, world!'[1]   -------------->'e'\n",
    "'Hello, world!'[0:5] -------------->'Hello'\n",
    "'Hello, world!'[:5]  -------------->'Hello'\n",
    "'Hello, world!'[3:]  -------------->'lo, world!'"
   ]
  },
  {
   "cell_type": "raw",
   "id": "e92d3a52-c588-4afc-bfc7-e5b4c4abddca",
   "metadata": {},
   "source": [
    "7. What are the values of the following expressions?\n",
    "'Hello'.upper()  ------------------->'HELLO'\n",
    "'Hello'.upper().isupper() ---------->True\n",
    "'Hello'.upper().lower() ------------>'hello'"
   ]
  },
  {
   "cell_type": "raw",
   "id": "59583154-27ba-46b3-80a9-10687f2f6139",
   "metadata": {},
   "source": [
    "8. What are the values of the following expressions?\n",
    "'Remember, remember, the fifth of July.'.split() ------------->['Remember,', 'remember,', 'the', 'fifth', 'of', 'July.']\n",
    "'-'.join('There can only one.'.split()) ----------------------->'There-can-only-one.'"
   ]
  },
  {
   "cell_type": "raw",
   "id": "e2e69e53-5882-46ff-9c25-c7effd1397b7",
   "metadata": {},
   "source": [
    "9. What are the methods for right-justifying, left-justifying, and centering a string?\n",
    "   The rjust(), ljust(), and center() string methods, respectively are the methods for right-justifying, left-justifying, and    centering a string"
   ]
  },
  {
   "cell_type": "raw",
   "id": "14d30405-d1f6-4e44-b37c-a317c018bc49",
   "metadata": {},
   "source": [
    "10. What is the best way to remove whitespace characters from the start or end?\n",
    "    The lstrip() and rstrip() methods remove whitespace from the left and right ends of a string, respectively."
   ]
  },
  {
   "cell_type": "code",
   "execution_count": null,
   "id": "fa4e06dd-bbf3-4438-99c0-42a0efd7247c",
   "metadata": {},
   "outputs": [],
   "source": []
  }
 ],
 "metadata": {
  "kernelspec": {
   "display_name": "Python 3 (ipykernel)",
   "language": "python",
   "name": "python3"
  },
  "language_info": {
   "codemirror_mode": {
    "name": "ipython",
    "version": 3
   },
   "file_extension": ".py",
   "mimetype": "text/x-python",
   "name": "python",
   "nbconvert_exporter": "python",
   "pygments_lexer": "ipython3",
   "version": "3.10.6"
  }
 },
 "nbformat": 4,
 "nbformat_minor": 5
}
