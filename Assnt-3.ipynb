{
 "cells": [
  {
   "cell_type": "raw",
   "id": "8877d4eb-5238-42aa-ac19-ff11f6dc0d74",
   "metadata": {},
   "source": [
    "1. Why are functions advantageous to have in your programs?\n",
    "   Function is a sub program of main program which performs certain operation and provides code reusability"
   ]
  },
  {
   "cell_type": "raw",
   "id": "06ea3aa9-5ce0-4baa-a82c-59aa1a242f91",
   "metadata": {},
   "source": [
    "2. When does the code in a function run: when it's specified or when it's called?\n",
    "   a function runs or executes only when it's called"
   ]
  },
  {
   "cell_type": "raw",
   "id": "2e22ac99-6d33-49e8-8bb5-e5a77aada230",
   "metadata": {},
   "source": [
    "3. What statement creates a function?\n",
    "   A function is defined by using the def keyword, followed by a specific name , followed by a set of parentheses which   \n",
    "   hold any formal parameters the function will take and ending with a colon(:)"
   ]
  },
  {
   "cell_type": "raw",
   "id": "654efde6-f62f-4a17-b69f-334aaa41471c",
   "metadata": {},
   "source": [
    "4. What is the difference between a function and a function call?\n",
    "   function : it's the defination part where all parameters are defined and written code for certain operation\n",
    "   function call : it's the function call which actually runs the function to get the desired output"
   ]
  },
  {
   "cell_type": "raw",
   "id": "200772f4-bfcd-435f-973d-e5e07a505190",
   "metadata": {},
   "source": [
    "5. How many global scopes are there in a Python program? How many local scopes?\n",
    "   Variables that are defined inside a function body have a local scope, and those defined outside have a global scope.\n",
    "   "
   ]
  },
  {
   "cell_type": "raw",
   "id": "dc25b6a8-5bbc-4d2b-ab44-8d556750a91e",
   "metadata": {},
   "source": [
    "6. What happens to variables in a local scope when the function call returns?\n",
    "   new local variables are created during each call of function and their lifetime expires when the function returns to the \n",
    "   caller "
   ]
  },
  {
   "cell_type": "raw",
   "id": "e6c3bb3a-94e6-4e15-bed7-6b1d8dcf9402",
   "metadata": {},
   "source": [
    "7. What is the concept of a return value? Is it possible to have a return value in an expression?\n",
    "   return value returns a desired output value when the execution of function completed when it's called .it possible to have    a return value in an expression provided the datatype of expression must be same as return value datatype"
   ]
  },
  {
   "cell_type": "raw",
   "id": "f20fcd91-8fec-4f0f-97b9-a366c3643c16",
   "metadata": {},
   "source": [
    "8. If a function does not have a return statement, what is the return value of a call to that function?\n",
    "   If a function does not have a return statement,the function call returns a void or None"
   ]
  },
  {
   "cell_type": "raw",
   "id": "1e826cbd-e4f8-4fda-8d56-580e275b2aa7",
   "metadata": {},
   "source": [
    "9. How do you make a function variable refer to the global variable?\n",
    "   To access global variables inside the function we must use global keyword"
   ]
  },
  {
   "cell_type": "raw",
   "id": "b3ccd996-fba1-4a40-a24b-617c747848bb",
   "metadata": {},
   "source": [
    "10. What is the data type of None?\n",
    "    The data type of None is NonType"
   ]
  },
  {
   "cell_type": "raw",
   "id": "7b4b6693-09e9-4e2b-bb5b-1dd026a56ccf",
   "metadata": {},
   "source": [
    "11. What does the sentence import areallyourpetsnamederic do?\n",
    "    The sentence import areallyourpetsnamederic imports a module named areallyourpetsnamederic    "
   ]
  },
  {
   "cell_type": "raw",
   "id": "96c57fae-3418-4571-a087-38437f1367b4",
   "metadata": {},
   "source": [
    "12. If you had a bacon() feature in a spam module, what would you call it after importing spam?\n",
    "    This function can be called after importing spam , with spam.bacon()."
   ]
  },
  {
   "cell_type": "raw",
   "id": "22d440bb-b8de-4d4e-8b39-e5b61b6fdb29",
   "metadata": {},
   "source": [
    "13. What can you do to save a programme from crashing if it encounters an error?\n",
    "    to save a programme from crashing if it encounters an error , we must use concept of exceptional handling.that part must \n",
    "    be in try block and corresponding user friendly message be there in except block "
   ]
  },
  {
   "cell_type": "raw",
   "id": "a32ecceb-4962-4a17-aba9-b431f536452e",
   "metadata": {},
   "source": [
    "14. What is the purpose of the try clause? What is the purpose of the except clause?\n",
    "    purpose of the try clause : here we write block of statements generating exception or technical error\n",
    "    purpose of the except clause : every try block must be immidiately followed by at least one except block , which generates     user friendly messeges"
   ]
  }
 ],
 "metadata": {
  "kernelspec": {
   "display_name": "Python 3 (ipykernel)",
   "language": "python",
   "name": "python3"
  },
  "language_info": {
   "codemirror_mode": {
    "name": "ipython",
    "version": 3
   },
   "file_extension": ".py",
   "mimetype": "text/x-python",
   "name": "python",
   "nbconvert_exporter": "python",
   "pygments_lexer": "ipython3",
   "version": "3.10.6"
  }
 },
 "nbformat": 4,
 "nbformat_minor": 5
}
